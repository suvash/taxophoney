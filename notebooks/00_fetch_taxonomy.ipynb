{
 "cells": [
  {
   "cell_type": "markdown",
   "id": "f1519206-68d9-43b2-ad4c-316c9608e852",
   "metadata": {},
   "source": [
    "# Taxophoney"
   ]
  },
  {
   "cell_type": "markdown",
   "id": "c161f3c7-a9aa-42a9-a360-e52c257e1d10",
   "metadata": {},
   "source": [
    "Goal : Download the NCBI taxonomey dataset and store in in the git repo with timestamp"
   ]
  },
  {
   "cell_type": "code",
   "execution_count": 1,
   "id": "b6d4bced-1534-4401-a890-90c5500455a5",
   "metadata": {},
   "outputs": [],
   "source": [
    "from datetime import datetime, timezone"
   ]
  },
  {
   "cell_type": "code",
   "execution_count": 2,
   "id": "025bff7f-091b-45f7-a0bc-089a0935728c",
   "metadata": {},
   "outputs": [
    {
     "data": {
      "text/plain": [
       "'2023-06-15T14:27:48UTC'"
      ]
     },
     "execution_count": 2,
     "metadata": {},
     "output_type": "execute_result"
    }
   ],
   "source": [
    "timestamp = datetime.now(timezone.utc).strftime('%Y-%m-%dT%H:%M:%S%Z')\n",
    "timestamp"
   ]
  },
  {
   "cell_type": "code",
   "execution_count": 3,
   "id": "1031e455-bedd-46d6-8977-c5cc6d4b879b",
   "metadata": {},
   "outputs": [],
   "source": [
    "DATA_DIR = '../data'"
   ]
  },
  {
   "cell_type": "code",
   "execution_count": 4,
   "id": "56eb0dad-87d7-4c5a-b605-3ac8e73b3f18",
   "metadata": {},
   "outputs": [],
   "source": [
    "ARCHIVE_DIR = f'{DATA_DIR}/archive'"
   ]
  },
  {
   "cell_type": "code",
   "execution_count": 5,
   "id": "3b434bc6-323b-42ca-9de7-fd891425aa97",
   "metadata": {},
   "outputs": [
    {
     "data": {
      "text/plain": [
       "('ftp://ftp.ncbi.nih.gov/pub/taxonomy/taxdump.tar.gz',\n",
       " '../data/ncbi_taxonomy_taxdump_2023-06-15T14:27:48UTC.tar.gz')"
      ]
     },
     "execution_count": 5,
     "metadata": {},
     "output_type": "execute_result"
    }
   ],
   "source": [
    "ftp_url  = 'ftp://ftp.ncbi.nih.gov/pub/taxonomy/taxdump.tar.gz'\n",
    "archive_file = f'{DATA_DIR}/ncbi_taxonomy_taxdump_{timestamp}.tar.gz'\n",
    "ftp_url, archive_file"
   ]
  },
  {
   "cell_type": "code",
   "execution_count": 6,
   "id": "7c8f1870-49fc-40a8-84e5-32ded95402ee",
   "metadata": {},
   "outputs": [
    {
     "data": {
      "text/plain": [
       "'curl ftp://ftp.ncbi.nih.gov/pub/taxonomy/taxdump.tar.gz --output ../data/ncbi_taxonomy_taxdump_2023-06-15T14:27:48UTC.tar.gz'"
      ]
     },
     "execution_count": 6,
     "metadata": {},
     "output_type": "execute_result"
    }
   ],
   "source": [
    "f'curl {ftp_url} --output {archive_file}'"
   ]
  },
  {
   "cell_type": "code",
   "execution_count": 7,
   "id": "df9f815e-4a57-4dc6-96ad-ef7e2bcd03b5",
   "metadata": {},
   "outputs": [
    {
     "name": "stdout",
     "output_type": "stream",
     "text": [
      "  % Total    % Received % Xferd  Average Speed   Time    Time     Time  Current\n",
      "                                 Dload  Upload   Total   Spent    Left  Speed\n",
      "100 58.8M  100 58.8M    0     0  11.5M      0  0:00:05  0:00:05 --:--:-- 13.5M\n",
      "-rw-r--r-- 1 containeruser users 59M Jun 15 16:27 ../data/ncbi_taxonomy_taxdump_2023-06-15T14:27:48UTC.tar.gz\n"
     ]
    }
   ],
   "source": [
    "!curl {ftp_url} --output {archive_file}\n",
    "!ls -alh {archive_file}"
   ]
  },
  {
   "cell_type": "code",
   "execution_count": 8,
   "id": "de6e5cd7-f57d-481b-9f90-5ba4273ca583",
   "metadata": {},
   "outputs": [
    {
     "name": "stdout",
     "output_type": "stream",
     "text": [
      "citations.dmp\n",
      "delnodes.dmp\n",
      "division.dmp\n",
      "gencode.dmp\n",
      "images.dmp\n",
      "merged.dmp\n",
      "names.dmp\n",
      "nodes.dmp\n",
      "gc.prt\n",
      "readme.txt\n"
     ]
    }
   ],
   "source": [
    "!mkdir -p {ARCHIVE_DIR}\n",
    "!tar xzvf {archive_file} --directory {ARCHIVE_DIR}"
   ]
  },
  {
   "cell_type": "code",
   "execution_count": 9,
   "id": "30aac0cc-1d44-4045-88a0-48eeb1b91eb4",
   "metadata": {},
   "outputs": [
    {
     "name": "stdout",
     "output_type": "stream",
     "text": [
      "total 428M\n",
      "drwxr-xr-x 2 containeruser users 4.0K Jun 15 16:27 .\n",
      "drwxr-xr-x 4 containeruser users 4.0K Jun 15 16:27 ..\n",
      "-rw-r--r-- 1 containeruser users  19M Jun 15 15:28 citations.dmp\n",
      "-rw-r--r-- 1 containeruser users 4.3M Jun 15 15:26 delnodes.dmp\n",
      "-rw-r--r-- 1 containeruser users  452 Jun 15 15:20 division.dmp\n",
      "-rw-r--r-- 1 containeruser users  17K Jun 15 15:28 gc.prt\n",
      "-rw-r--r-- 1 containeruser users 4.9K Jun 15 15:20 gencode.dmp\n",
      "-rw-r--r-- 1 containeruser users 667K Jun 15 15:26 images.dmp\n",
      "-rw-r--r-- 1 containeruser users 1.3M Jun 15 15:26 merged.dmp\n",
      "-rw-r--r-- 1 containeruser users 222M Jun 15 15:28 names.dmp\n",
      "-rw-r--r-- 1 containeruser users 181M Jun 15 15:28 nodes.dmp\n",
      "-rw-r----- 1 containeruser users 3.1K Apr 28 00:02 readme.txt\n"
     ]
    }
   ],
   "source": [
    "!ls -alh {ARCHIVE_DIR}"
   ]
  }
 ],
 "metadata": {
  "kernelspec": {
   "display_name": "Python 3 (ipykernel)",
   "language": "python",
   "name": "python3"
  },
  "language_info": {
   "codemirror_mode": {
    "name": "ipython",
    "version": 3
   },
   "file_extension": ".py",
   "mimetype": "text/x-python",
   "name": "python",
   "nbconvert_exporter": "python",
   "pygments_lexer": "ipython3",
   "version": "3.10.4"
  }
 },
 "nbformat": 4,
 "nbformat_minor": 5
}
