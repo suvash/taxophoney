{
 "cells": [
  {
   "cell_type": "markdown",
   "id": "2079d839-d174-4498-b17a-b64ea9c0531b",
   "metadata": {},
   "source": [
    "# Load the downloaded data and prepare it"
   ]
  },
  {
   "cell_type": "code",
   "execution_count": 1,
   "id": "c5a853d8-5103-4915-a30d-c55029973bf7",
   "metadata": {},
   "outputs": [],
   "source": [
    "import random"
   ]
  },
  {
   "cell_type": "code",
   "execution_count": 2,
   "id": "3cdec129-88d3-4cba-8294-192bf45b7c38",
   "metadata": {},
   "outputs": [
    {
     "data": {
      "text/plain": [
       "'../data/ncbi_taxonomy_taxdump_2023-06-15T14:27:48UTC.tar.gz'"
      ]
     },
     "execution_count": 2,
     "metadata": {},
     "output_type": "execute_result"
    }
   ],
   "source": [
    "timestamp = '2023-06-15T14:27:48UTC'\n",
    "\n",
    "DATA_DIR = '../data'\n",
    "ARCHIVE_DIR = f'{DATA_DIR}/archive'\n",
    "archive_file = f'{DATA_DIR}/ncbi_taxonomy_taxdump_{timestamp}.tar.gz'\n",
    "\n",
    "archive_file"
   ]
  },
  {
   "cell_type": "code",
   "execution_count": 3,
   "id": "0ec12a9b-da6c-49ad-871f-3e3f4e214194",
   "metadata": {},
   "outputs": [],
   "source": [
    "# Uncomment and run the below if you haven't already\n",
    "\n",
    "# !mkdir -p {ARCHIVE_DIR}\n",
    "# !tar xzvf {archive_file} --directory {ARCHIVE_DIR}"
   ]
  },
  {
   "cell_type": "code",
   "execution_count": 4,
   "id": "a70dcc49-de54-41fc-b7ee-6b8970febab4",
   "metadata": {},
   "outputs": [],
   "source": [
    "# Readme.txt explains the format of the documents\n",
    "# we are interested in extracting\n",
    "# common name\n",
    "# scientific name\n",
    "# of all 'species' rank"
   ]
  },
  {
   "cell_type": "code",
   "execution_count": 5,
   "id": "66836e35-a0f1-4cdd-95e0-aa77bb3e24ec",
   "metadata": {},
   "outputs": [],
   "source": [
    "rank_species_tax_ids = []"
   ]
  },
  {
   "cell_type": "code",
   "execution_count": 6,
   "id": "435bce51-01b2-4cce-8119-271b820fe372",
   "metadata": {},
   "outputs": [],
   "source": [
    "with open(f'{ARCHIVE_DIR}/nodes.dmp') as nodes:\n",
    "    for line in nodes:\n",
    "        (tax_id, _, rank, *_) = line.split(\"\\t|\\t\")\n",
    "        if rank == 'species':\n",
    "            rank_species_tax_ids.append(tax_id)"
   ]
  },
  {
   "cell_type": "code",
   "execution_count": 7,
   "id": "19507607-08d7-4638-9728-4f539e042b0b",
   "metadata": {},
   "outputs": [
    {
     "data": {
      "text/plain": [
       "2053178"
      ]
     },
     "execution_count": 7,
     "metadata": {},
     "output_type": "execute_result"
    }
   ],
   "source": [
    "len(rank_species_tax_ids)"
   ]
  },
  {
   "cell_type": "code",
   "execution_count": 8,
   "id": "88b68884-279f-4935-992e-c67baef16400",
   "metadata": {},
   "outputs": [
    {
     "data": {
      "text/plain": [
       "['7', '9', '11', '14', '17', '19', '21', '23', '24', '25']"
      ]
     },
     "execution_count": 8,
     "metadata": {},
     "output_type": "execute_result"
    }
   ],
   "source": [
    "rank_species_tax_ids[:10]"
   ]
  },
  {
   "cell_type": "code",
   "execution_count": 9,
   "id": "8e0d80ad-4098-4ffd-95e3-e591757e2d7c",
   "metadata": {},
   "outputs": [],
   "source": [
    "# Collect all the common and scientific names"
   ]
  },
  {
   "cell_type": "code",
   "execution_count": 10,
   "id": "48e89da7-0e90-46b2-bc2f-6326d98547b2",
   "metadata": {},
   "outputs": [],
   "source": [
    "tax_id_common_name = {}\n",
    "tax_id_scientific_name = {}"
   ]
  },
  {
   "cell_type": "code",
   "execution_count": 11,
   "id": "4263213f-be11-44f8-9def-7fbad70023ad",
   "metadata": {},
   "outputs": [],
   "source": [
    "with open(f\"{ARCHIVE_DIR}/names.dmp\") as names:\n",
    "    for line in names:\n",
    "        (tax_id, name, _, _name_type) = line.split(\"\\t|\\t\")\n",
    "        name_type = _name_type.rstrip(\"\\t|\\n\")\n",
    "        \n",
    "        if name_type == 'common name' or name_type == 'genbank common name':\n",
    "            tax_id_common_name[tax_id] = name\n",
    "        elif name_type == 'scientific name':\n",
    "            tax_id_scientific_name[tax_id] = name"
   ]
  },
  {
   "cell_type": "code",
   "execution_count": 12,
   "id": "79f83485-2825-4887-b399-30723944732d",
   "metadata": {},
   "outputs": [
    {
     "data": {
      "text/plain": [
       "(36813, 2509799)"
      ]
     },
     "execution_count": 12,
     "metadata": {},
     "output_type": "execute_result"
    }
   ],
   "source": [
    "len(tax_id_common_name), len(tax_id_scientific_name)"
   ]
  },
  {
   "cell_type": "code",
   "execution_count": 13,
   "id": "e1efa706-6827-4b5b-971d-369f4d4319da",
   "metadata": {},
   "outputs": [
    {
     "name": "stdout",
     "output_type": "stream",
     "text": [
      "44984\n"
     ]
    }
   ],
   "source": [
    "!grep 'common name' {ARCHIVE_DIR}/names.dmp | wc -l"
   ]
  },
  {
   "cell_type": "code",
   "execution_count": 14,
   "id": "6649ab17-bcfb-45bd-ba77-0faa24bb71f7",
   "metadata": {},
   "outputs": [
    {
     "name": "stdout",
     "output_type": "stream",
     "text": [
      "30337\n"
     ]
    }
   ],
   "source": [
    "!grep 'genbank common name' {ARCHIVE_DIR}/names.dmp | wc -l"
   ]
  },
  {
   "cell_type": "code",
   "execution_count": 15,
   "id": "7092a47f-9599-40eb-bed6-bc6ee801cd2d",
   "metadata": {},
   "outputs": [
    {
     "name": "stdout",
     "output_type": "stream",
     "text": [
      "2509799\n"
     ]
    }
   ],
   "source": [
    "!grep 'scientific name' {ARCHIVE_DIR}/names.dmp | wc -l"
   ]
  },
  {
   "cell_type": "code",
   "execution_count": 16,
   "id": "faf1091b-10eb-4aec-88be-1821740188ff",
   "metadata": {},
   "outputs": [
    {
     "data": {
      "text/plain": [
       "(33335, 33335, 2053178, 2053178)"
      ]
     },
     "execution_count": 16,
     "metadata": {},
     "output_type": "execute_result"
    }
   ],
   "source": [
    "names_both = []\n",
    "names_only_common = []\n",
    "names_only_scientific = []\n",
    "names_scientific_maybe_common = []\n",
    "\n",
    "for i, tax_id in enumerate(rank_species_tax_ids):\n",
    "    sci_name, common_name = tax_id_scientific_name.get(tax_id, None), tax_id_common_name.get(tax_id, None)\n",
    "    match (sci_name, common_name):\n",
    "        case None, _:\n",
    "            raise \"should not happen\"\n",
    "        case _, None:\n",
    "            names_only_scientific.append(sci_name)\n",
    "            names_scientific_maybe_common.append(f'{sci_name}')\n",
    "        case _, _:\n",
    "            names_only_scientific.append(sci_name)\n",
    "            names_only_common.append(common_name)\n",
    "            names_both.append(f'{sci_name} ({common_name})')\n",
    "            names_scientific_maybe_common.append(f'{sci_name} ({common_name})')\n",
    "\n",
    "len(names_both), len(names_only_common), len(names_only_scientific), len(names_scientific_maybe_common)"
   ]
  },
  {
   "cell_type": "code",
   "execution_count": 17,
   "id": "29803baf-be58-4ace-ae4d-a19aee259833",
   "metadata": {},
   "outputs": [
    {
     "data": {
      "text/plain": [
       "['Atropus hedlandensis (bumpnose trevally)',\n",
       " 'Naso lopezi (elongate unicornfish)',\n",
       " 'Euphorbia serrata (saw-tooth spurge)',\n",
       " 'Ichthyophis tricolor (three-colored caecilian)',\n",
       " 'Amphiprion akindynos (barrier reef anemonefish)',\n",
       " 'Hipparchia cretica (Cretan greyling)',\n",
       " 'Bombus lucorum (white-tailed bumblebee)',\n",
       " 'Soleichthys serpenpellis (snakeskin sole)',\n",
       " \"Heterixalus boettgeri (Boettiger's reed frog)\",\n",
       " 'Ctenochaetus truncatus (squaretail bristletooth tang)']"
      ]
     },
     "execution_count": 17,
     "metadata": {},
     "output_type": "execute_result"
    }
   ],
   "source": [
    "random.sample(names_both, 10)"
   ]
  },
  {
   "cell_type": "code",
   "execution_count": 18,
   "id": "4486cf53-336d-46e5-8ca7-696083a3e985",
   "metadata": {},
   "outputs": [
    {
     "data": {
      "text/plain": [
       "['Atlantic lizardfish',\n",
       " 'ornate tree toad',\n",
       " 'redspot cardinalfish',\n",
       " \"Jan's cliff racer\",\n",
       " 'longfin smelt',\n",
       " 'black-tailed whistler',\n",
       " 'black-streaked puffbird',\n",
       " 'red-tailed snakehead',\n",
       " 'South American leaf blight of rubber trees',\n",
       " 'Trinidad piping guan']"
      ]
     },
     "execution_count": 18,
     "metadata": {},
     "output_type": "execute_result"
    }
   ],
   "source": [
    "random.sample(names_only_common, 10)"
   ]
  },
  {
   "cell_type": "code",
   "execution_count": 19,
   "id": "9b94f0a7-85d2-49af-82ac-35ee9c4118cd",
   "metadata": {},
   "outputs": [
    {
     "data": {
      "text/plain": [
       "['Schizoseris multifoliata',\n",
       " 'Paropsis variolosa',\n",
       " 'Cochylis tasmaniana',\n",
       " 'Cecidomyiidae sp. BIOUG20703-B03',\n",
       " 'Myxobolus sp. GZP-2018-Samsun3',\n",
       " 'Anystidae sp. BIOUG16068-B12',\n",
       " 'Myanmarorchestia peterjaegeri',\n",
       " 'Ampedus quercicola',\n",
       " 'Eupelmus cerris',\n",
       " 'Rahnella sp. J78']"
      ]
     },
     "execution_count": 19,
     "metadata": {},
     "output_type": "execute_result"
    }
   ],
   "source": [
    "random.sample(names_only_scientific, 10)"
   ]
  },
  {
   "cell_type": "code",
   "execution_count": 20,
   "id": "1f399ccf-ab5d-44d5-a08f-f5ffa8c5c426",
   "metadata": {},
   "outputs": [
    {
     "data": {
      "text/plain": [
       "['Micrococcus sp. Eur1 9.1',\n",
       " 'Nocardiopsis sp. M5S13',\n",
       " 'Oppiella sp. BIOUG27128-B06',\n",
       " 'Vibrio sp. HQW7',\n",
       " 'Alviniconcha sp. Al-I-5',\n",
       " 'Pantoea sp. SAP72_2',\n",
       " 'Empidinae sp. BIOUG27353-D02',\n",
       " 'Pseudomonas sp. M5-33',\n",
       " 'Suctobelbella sp. BIOUG25049-B12',\n",
       " 'Eucera spectabilis']"
      ]
     },
     "execution_count": 20,
     "metadata": {},
     "output_type": "execute_result"
    }
   ],
   "source": [
    "random.sample(names_scientific_maybe_common, 10)"
   ]
  },
  {
   "cell_type": "code",
   "execution_count": 21,
   "id": "7783e21e-a1d0-4448-899a-dbf2a0be7050",
   "metadata": {},
   "outputs": [],
   "source": [
    "with open(f\"{DATA_DIR}/species_names_both.txt\", \"w\") as names:\n",
    "    names.write('\\n'.join(names_both))\n",
    "\n",
    "# with open(f\"{DATA_DIR}/species_names_only_common.txt\", \"w\") as names:\n",
    "#     names.write('\\n'.join(names_only_common))\n",
    "\n",
    "# with open(f\"{DATA_DIR}/species_names_only_scientific.txt\", \"w\") as names:\n",
    "#     names.write('\\n'.join(names_only_scientific))\n",
    "\n",
    "# with open(f\"{DATA_DIR}/species_names_scientific_maybe_common.txt\", \"w\") as names:\n",
    "#     names.write('\\n'.join(names_scientific_maybe_common))"
   ]
  },
  {
   "cell_type": "code",
   "execution_count": 22,
   "id": "b907db92-17f8-49d5-a5de-dc4f84f2bf3b",
   "metadata": {},
   "outputs": [
    {
     "name": "stdout",
     "output_type": "stream",
     "text": [
      "total 61M\n",
      "drwxr-xr-x 4 containeruser users 4.0K Jun 15 18:41 .\n",
      "drwxr-xr-x 5 containeruser users 4.0K Jun 15 16:36 ..\n",
      "drwxr-xr-x 2 containeruser users 4.0K Jun 15 18:41 .ipynb_checkpoints\n",
      "drwxr-xr-x 3 containeruser users 4.0K Jun 15 18:14 archive\n",
      "-rw-r--r-- 1 containeruser users  59M Jun 15 16:27 ncbi_taxonomy_taxdump_2023-06-15T14:27:48UTC.tar.gz\n",
      "-rw-r--r-- 1 containeruser users 1.3M Jun 15 18:41 species_names_both.txt\n"
     ]
    }
   ],
   "source": [
    "!ls -alh {DATA_DIR}"
   ]
  },
  {
   "cell_type": "code",
   "execution_count": 23,
   "id": "91db7fed-2a2d-464a-bd33-dcce956b9bc4",
   "metadata": {},
   "outputs": [],
   "source": [
    "# that's give or take the same amount as tinyshakespeare dataset\n",
    "# so we should be good to go"
   ]
  }
 ],
 "metadata": {
  "kernelspec": {
   "display_name": "Python 3 (ipykernel)",
   "language": "python",
   "name": "python3"
  },
  "language_info": {
   "codemirror_mode": {
    "name": "ipython",
    "version": 3
   },
   "file_extension": ".py",
   "mimetype": "text/x-python",
   "name": "python",
   "nbconvert_exporter": "python",
   "pygments_lexer": "ipython3",
   "version": "3.10.4"
  }
 },
 "nbformat": 4,
 "nbformat_minor": 5
}
